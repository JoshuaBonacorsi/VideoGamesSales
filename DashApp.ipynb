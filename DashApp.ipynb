{
 "cells": [
  {
   "cell_type": "markdown",
   "metadata": {},
   "source": [
    "# Dash App"
   ]
  },
  {
   "cell_type": "markdown",
   "metadata": {},
   "source": [
    "## Import"
   ]
  },
  {
   "cell_type": "code",
   "execution_count": 2,
   "metadata": {},
   "outputs": [],
   "source": [
    "import dash\n",
    "from dash import Dash, html, dcc\n",
    "import plotly.express as px\n",
    "\n",
    "import pandas as pd"
   ]
  },
  {
   "cell_type": "markdown",
   "metadata": {},
   "source": [
    "## Load_Data"
   ]
  },
  {
   "cell_type": "code",
   "execution_count": 6,
   "metadata": {},
   "outputs": [],
   "source": [
    "temp = pd.read_csv(\"fact_table.csv\",index_col=None)"
   ]
  },
  {
   "cell_type": "code",
   "execution_count": 7,
   "metadata": {},
   "outputs": [
    {
     "data": {
      "text/html": [
       "<div>\n",
       "<style scoped>\n",
       "    .dataframe tbody tr th:only-of-type {\n",
       "        vertical-align: middle;\n",
       "    }\n",
       "\n",
       "    .dataframe tbody tr th {\n",
       "        vertical-align: top;\n",
       "    }\n",
       "\n",
       "    .dataframe thead th {\n",
       "        text-align: right;\n",
       "    }\n",
       "</style>\n",
       "<table border=\"1\" class=\"dataframe\">\n",
       "  <thead>\n",
       "    <tr style=\"text-align: right;\">\n",
       "      <th></th>\n",
       "      <th>Unnamed: 0</th>\n",
       "      <th>id_product</th>\n",
       "      <th>id_localisation</th>\n",
       "      <th>id_temps</th>\n",
       "      <th>sales</th>\n",
       "      <th>mean_score_critic</th>\n",
       "      <th>mean_score_user</th>\n",
       "    </tr>\n",
       "  </thead>\n",
       "  <tbody>\n",
       "    <tr>\n",
       "      <th>0</th>\n",
       "      <td>0</td>\n",
       "      <td>49167</td>\n",
       "      <td>1</td>\n",
       "      <td>1</td>\n",
       "      <td>41.49</td>\n",
       "      <td>76</td>\n",
       "      <td>8.0</td>\n",
       "    </tr>\n",
       "    <tr>\n",
       "      <th>1</th>\n",
       "      <td>1</td>\n",
       "      <td>73907</td>\n",
       "      <td>1</td>\n",
       "      <td>1</td>\n",
       "      <td>11.38</td>\n",
       "      <td>89</td>\n",
       "      <td>8.5</td>\n",
       "    </tr>\n",
       "    <tr>\n",
       "      <th>2</th>\n",
       "      <td>2</td>\n",
       "      <td>33576</td>\n",
       "      <td>1</td>\n",
       "      <td>1</td>\n",
       "      <td>14.03</td>\n",
       "      <td>58</td>\n",
       "      <td>6.6</td>\n",
       "    </tr>\n",
       "    <tr>\n",
       "      <th>3</th>\n",
       "      <td>3</td>\n",
       "      <td>54312</td>\n",
       "      <td>1</td>\n",
       "      <td>1</td>\n",
       "      <td>6.42</td>\n",
       "      <td>72</td>\n",
       "      <td>7.5</td>\n",
       "    </tr>\n",
       "    <tr>\n",
       "      <th>4</th>\n",
       "      <td>4</td>\n",
       "      <td>70689</td>\n",
       "      <td>1</td>\n",
       "      <td>1</td>\n",
       "      <td>3.83</td>\n",
       "      <td>95</td>\n",
       "      <td>9.0</td>\n",
       "    </tr>\n",
       "    <tr>\n",
       "      <th>...</th>\n",
       "      <td>...</td>\n",
       "      <td>...</td>\n",
       "      <td>...</td>\n",
       "      <td>...</td>\n",
       "      <td>...</td>\n",
       "      <td>...</td>\n",
       "      <td>...</td>\n",
       "    </tr>\n",
       "    <tr>\n",
       "      <th>82410</th>\n",
       "      <td>82410</td>\n",
       "      <td>67969</td>\n",
       "      <td>4</td>\n",
       "      <td>40</td>\n",
       "      <td>0.00</td>\n",
       "      <td>72</td>\n",
       "      <td>7.5</td>\n",
       "    </tr>\n",
       "    <tr>\n",
       "      <th>82411</th>\n",
       "      <td>82411</td>\n",
       "      <td>87321</td>\n",
       "      <td>4</td>\n",
       "      <td>40</td>\n",
       "      <td>0.00</td>\n",
       "      <td>72</td>\n",
       "      <td>7.5</td>\n",
       "    </tr>\n",
       "    <tr>\n",
       "      <th>82412</th>\n",
       "      <td>82412</td>\n",
       "      <td>49185</td>\n",
       "      <td>5</td>\n",
       "      <td>40</td>\n",
       "      <td>0.03</td>\n",
       "      <td>72</td>\n",
       "      <td>7.5</td>\n",
       "    </tr>\n",
       "    <tr>\n",
       "      <th>82413</th>\n",
       "      <td>82413</td>\n",
       "      <td>67969</td>\n",
       "      <td>5</td>\n",
       "      <td>40</td>\n",
       "      <td>0.01</td>\n",
       "      <td>72</td>\n",
       "      <td>7.5</td>\n",
       "    </tr>\n",
       "    <tr>\n",
       "      <th>82414</th>\n",
       "      <td>82414</td>\n",
       "      <td>87321</td>\n",
       "      <td>5</td>\n",
       "      <td>40</td>\n",
       "      <td>0.01</td>\n",
       "      <td>72</td>\n",
       "      <td>7.5</td>\n",
       "    </tr>\n",
       "  </tbody>\n",
       "</table>\n",
       "<p>82415 rows × 7 columns</p>\n",
       "</div>"
      ],
      "text/plain": [
       "       Unnamed: 0  id_product  id_localisation  id_temps  sales  \\\n",
       "0               0       49167                1         1  41.49   \n",
       "1               1       73907                1         1  11.38   \n",
       "2               2       33576                1         1  14.03   \n",
       "3               3       54312                1         1   6.42   \n",
       "4               4       70689                1         1   3.83   \n",
       "...           ...         ...              ...       ...    ...   \n",
       "82410       82410       67969                4        40   0.00   \n",
       "82411       82411       87321                4        40   0.00   \n",
       "82412       82412       49185                5        40   0.03   \n",
       "82413       82413       67969                5        40   0.01   \n",
       "82414       82414       87321                5        40   0.01   \n",
       "\n",
       "       mean_score_critic  mean_score_user  \n",
       "0                     76              8.0  \n",
       "1                     89              8.5  \n",
       "2                     58              6.6  \n",
       "3                     72              7.5  \n",
       "4                     95              9.0  \n",
       "...                  ...              ...  \n",
       "82410                 72              7.5  \n",
       "82411                 72              7.5  \n",
       "82412                 72              7.5  \n",
       "82413                 72              7.5  \n",
       "82414                 72              7.5  \n",
       "\n",
       "[82415 rows x 7 columns]"
      ]
     },
     "execution_count": 7,
     "metadata": {},
     "output_type": "execute_result"
    }
   ],
   "source": [
    "temp"
   ]
  },
  {
   "cell_type": "code",
   "execution_count": 11,
   "metadata": {},
   "outputs": [
    {
     "ename": "NameError",
     "evalue": "name 'common_data' is not defined",
     "output_type": "error",
     "traceback": [
      "\u001b[1;31m---------------------------------------------------------------------------\u001b[0m",
      "\u001b[1;31mNameError\u001b[0m                                 Traceback (most recent call last)",
      "\u001b[1;32m<ipython-input-11-01e5d7e1043c>\u001b[0m in \u001b[0;36m<module>\u001b[1;34m\u001b[0m\n\u001b[1;32m----> 1\u001b[1;33m \u001b[0mtemp\u001b[0m \u001b[1;33m=\u001b[0m \u001b[0mcommon_data\u001b[0m\u001b[1;33m[\u001b[0m\u001b[1;33m[\u001b[0m\u001b[1;34m\"Publisher\"\u001b[0m\u001b[1;33m,\u001b[0m\u001b[1;34m\"Global_Sales\"\u001b[0m\u001b[1;33m]\u001b[0m\u001b[1;33m]\u001b[0m\u001b[1;33m.\u001b[0m\u001b[0mgroupby\u001b[0m\u001b[1;33m(\u001b[0m\u001b[1;34m\"Publisher\"\u001b[0m\u001b[1;33m)\u001b[0m\u001b[1;33m.\u001b[0m\u001b[0msum\u001b[0m\u001b[1;33m(\u001b[0m\u001b[1;33m)\u001b[0m\u001b[1;33m.\u001b[0m\u001b[0mreset_index\u001b[0m\u001b[1;33m(\u001b[0m\u001b[1;33m)\u001b[0m\u001b[1;33m\u001b[0m\u001b[1;33m\u001b[0m\u001b[0m\n\u001b[0m\u001b[0;32m      2\u001b[0m \u001b[0mtemp\u001b[0m\u001b[1;33m.\u001b[0m\u001b[0msort_values\u001b[0m\u001b[1;33m(\u001b[0m\u001b[1;34m\"Global_Sales\"\u001b[0m\u001b[1;33m,\u001b[0m\u001b[0mascending\u001b[0m\u001b[1;33m=\u001b[0m\u001b[1;32mFalse\u001b[0m\u001b[1;33m,\u001b[0m\u001b[0minplace\u001b[0m\u001b[1;33m=\u001b[0m\u001b[1;32mTrue\u001b[0m\u001b[1;33m)\u001b[0m\u001b[1;33m\u001b[0m\u001b[1;33m\u001b[0m\u001b[0m\n",
      "\u001b[1;31mNameError\u001b[0m: name 'common_data' is not defined"
     ]
    }
   ],
   "source": [
    "temp = common_data[[\"Publisher\",\"Global_Sales\"]].groupby(\"Publisher\").sum().reset_index()\n",
    "temp.sort_values(\"Global_Sales\",ascending=False,inplace=True)"
   ]
  },
  {
   "attachments": {},
   "cell_type": "markdown",
   "metadata": {},
   "source": [
    "## App layout"
   ]
  },
  {
   "cell_type": "code",
   "execution_count": 12,
   "metadata": {},
   "outputs": [],
   "source": [
    "app = Dash()"
   ]
  },
  {
   "cell_type": "code",
   "execution_count": 8,
   "metadata": {},
   "outputs": [
    {
     "ename": "NameError",
     "evalue": "name 'temp' is not defined",
     "output_type": "error",
     "traceback": [
      "\u001b[1;31m---------------------------------------------------------------------------\u001b[0m",
      "\u001b[1;31mNameError\u001b[0m                                 Traceback (most recent call last)",
      "\u001b[1;32m<ipython-input-8-b1f07d862344>\u001b[0m in \u001b[0;36m<module>\u001b[1;34m\u001b[0m\n\u001b[1;32m----> 1\u001b[1;33m fig = px.bar(temp.iloc[:20], \n\u001b[0m\u001b[0;32m      2\u001b[0m              \u001b[0mx\u001b[0m\u001b[1;33m=\u001b[0m\u001b[1;34m\"Publisher\"\u001b[0m\u001b[1;33m,\u001b[0m\u001b[1;33m\u001b[0m\u001b[1;33m\u001b[0m\u001b[0m\n\u001b[0;32m      3\u001b[0m              y=\"Global_Sales\")\n\u001b[0;32m      4\u001b[0m \u001b[1;33m\u001b[0m\u001b[0m\n\u001b[0;32m      5\u001b[0m app.layout = html.Div(children=[\n",
      "\u001b[1;31mNameError\u001b[0m: name 'temp' is not defined"
     ]
    }
   ],
   "source": [
    "fig = px.bar(temp.iloc[:20], \n",
    "             x=\"Publisher\", \n",
    "             y=\"Global_Sales\")\n",
    "\n",
    "app.layout = html.Div(children=[\n",
    "    html.H1(children='Video Games Analysis'),\n",
    "    dcc.Graph(\n",
    "        id='example-graph',\n",
    "        figure=fig\n",
    "    )\n",
    "])"
   ]
  },
  {
   "attachments": {},
   "cell_type": "markdown",
   "metadata": {},
   "source": [
    "## App callback"
   ]
  },
  {
   "cell_type": "code",
   "execution_count": null,
   "metadata": {},
   "outputs": [],
   "source": []
  },
  {
   "cell_type": "markdown",
   "metadata": {},
   "source": [
    "## App run"
   ]
  },
  {
   "cell_type": "code",
   "execution_count": null,
   "metadata": {},
   "outputs": [],
   "source": [
    "app.run_server(debug=False)"
   ]
  }
 ],
 "metadata": {
  "kernelspec": {
   "display_name": "base",
   "language": "python",
   "name": "python3"
  },
  "language_info": {
   "codemirror_mode": {
    "name": "ipython",
    "version": 3
   },
   "file_extension": ".py",
   "mimetype": "text/x-python",
   "name": "python",
   "nbconvert_exporter": "python",
   "pygments_lexer": "ipython3",
   "version": "3.8.5"
  },
  "orig_nbformat": 4,
  "vscode": {
   "interpreter": {
    "hash": "ad2bdc8ecc057115af97d19610ffacc2b4e99fae6737bb82f5d7fb13d2f2c186"
   }
  }
 },
 "nbformat": 4,
 "nbformat_minor": 2
}
